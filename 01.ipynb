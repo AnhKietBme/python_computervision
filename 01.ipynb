{
 "cells": [
  {
   "cell_type": "code",
   "execution_count": 1,
   "id": "4c710d5f-6a0e-4989-b824-c1868ccbb938",
   "metadata": {},
   "outputs": [],
   "source": [
    "#\n"
   ]
  },
  {
   "cell_type": "code",
   "execution_count": 2,
   "id": "f4b830f1-9053-48d3-a00c-e330bbf03230",
   "metadata": {},
   "outputs": [],
   "source": [
    "# Import lớp Image\n",
    "from PIL import Image"
   ]
  },
  {
   "cell_type": "code",
   "execution_count": 3,
   "id": "f2ce5afa-3c11-403e-839a-57b1b83c0835",
   "metadata": {},
   "outputs": [],
   "source": [
    "#thu muc chua hinh anh\n",
    "dir ='C:/Users/ANHKI/OneDrive/Desktop/src_cv/img/01'"
   ]
  },
  {
   "cell_type": "code",
   "execution_count": 4,
   "id": "714e5826-29c3-4dc1-8d0d-52846d036723",
   "metadata": {},
   "outputs": [
    {
     "name": "stdout",
     "output_type": "stream",
     "text": [
      "C:/Users/ANHKI/OneDrive/Desktop/src_cv/img/01/1.JPG\n"
     ]
    }
   ],
   "source": [
    "#Duong dan den hinh anh\n",
    "image_path = dir +'/1.JPG'\n",
    "print(image_path)"
   ]
  },
  {
   "cell_type": "code",
   "execution_count": 5,
   "id": "c6e631a3-2513-4471-acc9-2777a493f0d1",
   "metadata": {},
   "outputs": [],
   "source": [
    "# Su dung Image.open() doc anh\n",
    "img01 = Image.open(image_path)"
   ]
  },
  {
   "cell_type": "code",
   "execution_count": 6,
   "id": "a1f49c7d-aa95-4e2e-b07b-e2bd7b199387",
   "metadata": {},
   "outputs": [],
   "source": [
    "# Hien thi hinh anh tren may\n",
    "img01.show()"
   ]
  },
  {
   "cell_type": "code",
   "execution_count": 7,
   "id": "d1441d3a-4cc6-4c95-96a5-fd647ceae10f",
   "metadata": {},
   "outputs": [
    {
     "name": "stdout",
     "output_type": "stream",
     "text": [
      "Dinh dang anh: JPEG\n"
     ]
    }
   ],
   "source": [
    "# In mot so thong tin\n",
    "# In dinh dang anh\n",
    "print(\"Dinh dang anh: \"+ img01.format)"
   ]
  },
  {
   "cell_type": "code",
   "execution_count": 8,
   "id": "85186113-abe6-4950-83cd-390d14354149",
   "metadata": {},
   "outputs": [
    {
     "name": "stdout",
     "output_type": "stream",
     "text": [
      "Kich thuoc in anh:  (500, 332)\n"
     ]
    }
   ],
   "source": [
    "#In ra size\n",
    "print(\"Kich thuoc in anh: \", img01.size)"
   ]
  },
  {
   "cell_type": "code",
   "execution_count": 12,
   "id": "dcee5bd7-42aa-4e26-87f1-329b7720f028",
   "metadata": {},
   "outputs": [],
   "source": [
    "# luu anh va chuyen doi\n",
    "new_img_01_path = dir +\"/new_01.JPG\"\n",
    "new_img_png_01_path = dir +\"/new_01.PNG\"\n",
    "img01.save(new_img_01_path)\n",
    "img01.save(new_img_png_01_path)"
   ]
  },
  {
   "cell_type": "code",
   "execution_count": 13,
   "id": "198c03ca-8eb3-4b6b-aa5c-568d3c6978da",
   "metadata": {},
   "outputs": [],
   "source": [
    "# Dong tap tin\n",
    "img01.close()"
   ]
  },
  {
   "cell_type": "code",
   "execution_count": null,
   "id": "cf169262-8280-49aa-a620-4d0bc1fbdc5f",
   "metadata": {},
   "outputs": [],
   "source": []
  }
 ],
 "metadata": {
  "kernelspec": {
   "display_name": "Python 3 (ipykernel)",
   "language": "python",
   "name": "python3"
  },
  "language_info": {
   "codemirror_mode": {
    "name": "ipython",
    "version": 3
   },
   "file_extension": ".py",
   "mimetype": "text/x-python",
   "name": "python",
   "nbconvert_exporter": "python",
   "pygments_lexer": "ipython3",
   "version": "3.9.16"
  }
 },
 "nbformat": 4,
 "nbformat_minor": 5
}
